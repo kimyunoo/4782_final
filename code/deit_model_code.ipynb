{
  "cells": [
    {
      "cell_type": "code",
      "execution_count": null,
      "metadata": {
        "colab": {
          "base_uri": "https://localhost:8080/"
        },
        "id": "4rJiuMOTF0N0",
        "outputId": "b5782b4f-5bac-4501-e3de-d9ab2aec78be"
      },
      "outputs": [
        {
          "output_type": "stream",
          "name": "stdout",
          "text": [
            "Requirement already satisfied: timm in /usr/local/lib/python3.11/dist-packages (1.0.15)\n",
            "Requirement already satisfied: torch in /usr/local/lib/python3.11/dist-packages (from timm) (2.6.0+cu124)\n",
            "Requirement already satisfied: torchvision in /usr/local/lib/python3.11/dist-packages (from timm) (0.21.0+cu124)\n",
            "Requirement already satisfied: pyyaml in /usr/local/lib/python3.11/dist-packages (from timm) (6.0.2)\n",
            "Requirement already satisfied: huggingface_hub in /usr/local/lib/python3.11/dist-packages (from timm) (0.31.1)\n",
            "Requirement already satisfied: safetensors in /usr/local/lib/python3.11/dist-packages (from timm) (0.5.3)\n",
            "Requirement already satisfied: filelock in /usr/local/lib/python3.11/dist-packages (from huggingface_hub->timm) (3.18.0)\n",
            "Requirement already satisfied: fsspec>=2023.5.0 in /usr/local/lib/python3.11/dist-packages (from huggingface_hub->timm) (2025.3.2)\n",
            "Requirement already satisfied: packaging>=20.9 in /usr/local/lib/python3.11/dist-packages (from huggingface_hub->timm) (24.2)\n",
            "Requirement already satisfied: requests in /usr/local/lib/python3.11/dist-packages (from huggingface_hub->timm) (2.32.3)\n",
            "Requirement already satisfied: tqdm>=4.42.1 in /usr/local/lib/python3.11/dist-packages (from huggingface_hub->timm) (4.67.1)\n",
            "Requirement already satisfied: typing-extensions>=3.7.4.3 in /usr/local/lib/python3.11/dist-packages (from huggingface_hub->timm) (4.13.2)\n",
            "Requirement already satisfied: hf-xet<2.0.0,>=1.1.0 in /usr/local/lib/python3.11/dist-packages (from huggingface_hub->timm) (1.1.0)\n",
            "Requirement already satisfied: networkx in /usr/local/lib/python3.11/dist-packages (from torch->timm) (3.4.2)\n",
            "Requirement already satisfied: jinja2 in /usr/local/lib/python3.11/dist-packages (from torch->timm) (3.1.6)\n",
            "Requirement already satisfied: nvidia-cuda-nvrtc-cu12==12.4.127 in /usr/local/lib/python3.11/dist-packages (from torch->timm) (12.4.127)\n",
            "Requirement already satisfied: nvidia-cuda-runtime-cu12==12.4.127 in /usr/local/lib/python3.11/dist-packages (from torch->timm) (12.4.127)\n",
            "Requirement already satisfied: nvidia-cuda-cupti-cu12==12.4.127 in /usr/local/lib/python3.11/dist-packages (from torch->timm) (12.4.127)\n",
            "Requirement already satisfied: nvidia-cudnn-cu12==9.1.0.70 in /usr/local/lib/python3.11/dist-packages (from torch->timm) (9.1.0.70)\n",
            "Requirement already satisfied: nvidia-cublas-cu12==12.4.5.8 in /usr/local/lib/python3.11/dist-packages (from torch->timm) (12.4.5.8)\n",
            "Requirement already satisfied: nvidia-cufft-cu12==11.2.1.3 in /usr/local/lib/python3.11/dist-packages (from torch->timm) (11.2.1.3)\n",
            "Requirement already satisfied: nvidia-curand-cu12==10.3.5.147 in /usr/local/lib/python3.11/dist-packages (from torch->timm) (10.3.5.147)\n",
            "Requirement already satisfied: nvidia-cusolver-cu12==11.6.1.9 in /usr/local/lib/python3.11/dist-packages (from torch->timm) (11.6.1.9)\n",
            "Requirement already satisfied: nvidia-cusparse-cu12==12.3.1.170 in /usr/local/lib/python3.11/dist-packages (from torch->timm) (12.3.1.170)\n",
            "Requirement already satisfied: nvidia-cusparselt-cu12==0.6.2 in /usr/local/lib/python3.11/dist-packages (from torch->timm) (0.6.2)\n",
            "Requirement already satisfied: nvidia-nccl-cu12==2.21.5 in /usr/local/lib/python3.11/dist-packages (from torch->timm) (2.21.5)\n",
            "Requirement already satisfied: nvidia-nvtx-cu12==12.4.127 in /usr/local/lib/python3.11/dist-packages (from torch->timm) (12.4.127)\n",
            "Requirement already satisfied: nvidia-nvjitlink-cu12==12.4.127 in /usr/local/lib/python3.11/dist-packages (from torch->timm) (12.4.127)\n",
            "Requirement already satisfied: triton==3.2.0 in /usr/local/lib/python3.11/dist-packages (from torch->timm) (3.2.0)\n",
            "Requirement already satisfied: sympy==1.13.1 in /usr/local/lib/python3.11/dist-packages (from torch->timm) (1.13.1)\n",
            "Requirement already satisfied: mpmath<1.4,>=1.1.0 in /usr/local/lib/python3.11/dist-packages (from sympy==1.13.1->torch->timm) (1.3.0)\n",
            "Requirement already satisfied: numpy in /usr/local/lib/python3.11/dist-packages (from torchvision->timm) (2.0.2)\n",
            "Requirement already satisfied: pillow!=8.3.*,>=5.3.0 in /usr/local/lib/python3.11/dist-packages (from torchvision->timm) (11.2.1)\n",
            "Requirement already satisfied: MarkupSafe>=2.0 in /usr/local/lib/python3.11/dist-packages (from jinja2->torch->timm) (3.0.2)\n",
            "Requirement already satisfied: charset-normalizer<4,>=2 in /usr/local/lib/python3.11/dist-packages (from requests->huggingface_hub->timm) (3.4.2)\n",
            "Requirement already satisfied: idna<4,>=2.5 in /usr/local/lib/python3.11/dist-packages (from requests->huggingface_hub->timm) (3.10)\n",
            "Requirement already satisfied: urllib3<3,>=1.21.1 in /usr/local/lib/python3.11/dist-packages (from requests->huggingface_hub->timm) (2.4.0)\n",
            "Requirement already satisfied: certifi>=2017.4.17 in /usr/local/lib/python3.11/dist-packages (from requests->huggingface_hub->timm) (2025.4.26)\n"
          ]
        },
        {
          "output_type": "stream",
          "name": "stderr",
          "text": [
            "/usr/local/lib/python3.11/dist-packages/timm/models/layers/__init__.py:48: FutureWarning: Importing from timm.models.layers is deprecated, please import via timm.layers\n",
            "  warnings.warn(f\"Importing from {__name__} is deprecated, please import via timm.layers\", FutureWarning)\n"
          ]
        },
        {
          "output_type": "stream",
          "name": "stdout",
          "text": [
            "Collecting git+https://github.com/facebookresearch/pycls.git\n",
            "  Cloning https://github.com/facebookresearch/pycls.git to /tmp/pip-req-build-cb_het_h\n",
            "  Running command git clone --filter=blob:none --quiet https://github.com/facebookresearch/pycls.git /tmp/pip-req-build-cb_het_h\n",
            "  Resolved https://github.com/facebookresearch/pycls.git to commit 5719de641657c251f807c20a1fcf8ef6f4b60144\n",
            "  Preparing metadata (setup.py) ... \u001b[?25l\u001b[?25hdone\n",
            "Requirement already satisfied: numpy in /usr/local/lib/python3.11/dist-packages (from pycls==0.1.1) (2.0.2)\n",
            "Requirement already satisfied: opencv-python in /usr/local/lib/python3.11/dist-packages (from pycls==0.1.1) (4.11.0.86)\n",
            "Requirement already satisfied: simplejson in /usr/local/lib/python3.11/dist-packages (from pycls==0.1.1) (3.20.1)\n",
            "Requirement already satisfied: yacs in /usr/local/lib/python3.11/dist-packages (from pycls==0.1.1) (0.1.8)\n",
            "Requirement already satisfied: PyYAML in /usr/local/lib/python3.11/dist-packages (from yacs->pycls==0.1.1) (6.0.2)\n"
          ]
        }
      ],
      "source": [
        "\n",
        "import torch\n",
        "import torch.nn as nn\n",
        "import torch.nn.functional as F\n",
        "\n",
        "import torch.optim as optim\n",
        "import torchvision\n",
        "import torchvision.transforms as transforms\n",
        "from torch.utils.data import DataLoader\n",
        "from tqdm import tqdm\n",
        "\n",
        "from einops.layers.torch import Rearrange\n",
        "import matplotlib.pyplot as plt\n",
        "!pip install timm\n",
        "from timm.models.layers import DropPath\n",
        "from timm.data import Mixup\n",
        "from timm.loss import SoftTargetCrossEntropy\n",
        "\n",
        "!pip install git+https://github.com/facebookresearch/pycls.git\n",
        "\n",
        "import numpy as np\n",
        "from torch.utils.data import Subset\n",
        "\n",
        "from torchvision import transforms\n",
        "from torchvision.transforms import InterpolationMode\n",
        "from timm.data import create_loader\n",
        "from timm.data.constants import IMAGENET_DEFAULT_MEAN, IMAGENET_DEFAULT_STD\n",
        "from timm.data.random_erasing import RandomErasing\n",
        "from torchvision.datasets import CIFAR10\n",
        "import torch\n",
        "from torch.optim.lr_scheduler import LambdaLR\n",
        "\n",
        "import math\n",
        "\n",
        "from timm.loss import LabelSmoothingCrossEntropy\n"
      ]
    },
    {
      "cell_type": "code",
      "execution_count": null,
      "metadata": {
        "id": "pePqhZK5d7XX"
      },
      "outputs": [],
      "source": [
        "from re import X\n",
        "class TransformerBlock(nn.Module):\n",
        "    def __init__(self, d_model, num_heads, dropout):\n",
        "        super().__init__()\n",
        "        self.norm1 = nn.LayerNorm(d_model)\n",
        "        self.msa = nn.MultiheadAttention(embed_dim=d_model, num_heads=num_heads, dropout=dropout, batch_first=True)\n",
        "        self.norm2 = nn.LayerNorm(d_model)\n",
        "        self.ffn = nn.Sequential(\n",
        "            nn.Linear(d_model, 4 * d_model),\n",
        "            nn.GELU(),\n",
        "            nn.Linear(4 * d_model, d_model),\n",
        "        )\n",
        "\n",
        "    def forward(self, x):\n",
        "        x_res = x\n",
        "        x = self.norm1(x)\n",
        "        x, _ = self.msa(x, x, x)\n",
        "        x = x + x_res\n",
        "\n",
        "        x_res = x\n",
        "        x = self.norm2(x)\n",
        "        x = self.ffn(x)\n",
        "        x = x + x_res\n",
        "\n",
        "        return x\n",
        "\n",
        "\n",
        "class ViT(nn.Module):\n",
        "    # NOTE: we took the following dimensions from the paper: d_model = 192, patch_size = 16, img_size = 224, dropout = 0.1\n",
        "    def __init__(self, d_model=192, num_layers=12, num_classes=10, patch_size=16, img_size=224, dropout=0.1, mode = 'both'):\n",
        "        super().__init__()\n",
        "        self.mode = mode\n",
        "        self.num_patches = (img_size // patch_size) ** 2\n",
        "        self.patch_dim = patch_size * patch_size * 3\n",
        "\n",
        "        self.to_patch_embedding = nn.Sequential(\n",
        "            Rearrange('b c (h p1) (w p2) -> b (h w) (p1 p2 c)', p1=patch_size, p2=patch_size),\n",
        "            nn.LayerNorm(self.patch_dim),\n",
        "            nn.Linear(self.patch_dim, d_model),\n",
        "            nn.LayerNorm(d_model),\n",
        "        )\n",
        "        if mode in ['class', 'both']:\n",
        "            self.class_token = nn.Parameter(torch.randn(1, 1, d_model))\n",
        "        if mode in ['distill', 'both']:\n",
        "            self.distill_token = nn.Parameter(torch.randn(1, 1, d_model))\n",
        "        token_count = {\n",
        "            'none': 0,\n",
        "            'soft': 0,\n",
        "            'hard': 0,\n",
        "            'class': 1,\n",
        "            'distill': 1,\n",
        "            'both': 2,\n",
        "        }[mode]\n",
        "        self.pos_embedding = nn.Parameter(torch.randn(1, self.num_patches + token_count, d_model))\n",
        "        self.dropout = nn.Dropout(dropout)\n",
        "        self.transformer_blocks = nn.ModuleList([\n",
        "            TransformerBlock(d_model, num_heads=d_model // 64, dropout=dropout)\n",
        "            for _ in range(num_layers)\n",
        "        ])\n",
        "\n",
        "        self.norm = nn.LayerNorm(d_model)\n",
        "        self.head = nn.Linear(d_model, num_classes)\n",
        "\n",
        "    def forward(self, x):\n",
        "        if self.mode == 'class':\n",
        "            class_tok = self.class_token.expand(x.shape[0], -1, -1)\n",
        "            x = self.to_patch_embedding(x)\n",
        "            x = torch.cat([class_tok, x], dim=1)\n",
        "        elif self.mode == 'distill':\n",
        "            dist_tok = self.distill_token.expand(x.shape[0], -1, -1)\n",
        "            x = self.to_patch_embedding(x)\n",
        "            x = torch.cat([dist_tok, x], dim=1)\n",
        "        elif self.mode == 'both':\n",
        "            class_tok = self.class_token.expand(x.shape[0], -1, -1)\n",
        "            dist_tok = self.distill_token.expand(x.shape[0], -1, -1)\n",
        "            x = self.to_patch_embedding(x)\n",
        "            x = torch.cat([class_tok, dist_tok, x], dim=1)\n",
        "\n",
        "        x = x + self.pos_embedding[:, :x.size(1)]\n",
        "        x = self.dropout(x)\n",
        "        for block in self.transformer_blocks:\n",
        "            x = block(x)\n",
        "        x = self.norm(x)\n",
        "        if self.mode in ['none', 'soft', 'hard']:\n",
        "            pooled = x.mean(dim=1)\n",
        "            return self.head(pooled), None\n",
        "        elif self.mode == 'class':\n",
        "            return self.head(x[:, 0]), None\n",
        "        elif self.mode == 'distill':\n",
        "            return None, self.head(x[:, 0])\n",
        "        elif self.mode == 'both':\n",
        "            return self.head(x[:, 0]), self.head(x[:, 1])\n",
        "        else:\n",
        "            print(\"NONEXISTENT MODE\")\n",
        "\n",
        "\n",
        "\n"
      ]
    },
    {
      "cell_type": "code",
      "execution_count": null,
      "metadata": {
        "id": "1KwfeuXSGBMA"
      },
      "outputs": [],
      "source": [
        "def train_one_epoch(model, dataloader, optimizer, criterion, device, mixup_fn):\n",
        "    model.train()\n",
        "    total_loss = 0\n",
        "    correct = 0\n",
        "    num_samples = 0\n",
        "\n",
        "    for images, labels in tqdm(dataloader):\n",
        "        images = images.to(device)\n",
        "        labels = labels.to(device)\n",
        "        if mixup_fn is not None:\n",
        "            images, labels = mixup_fn(images, labels)\n",
        "\n",
        "        optimizer.zero_grad()\n",
        "        out_class, out_dist = model(images)\n",
        "        loss = criterion((out_class, out_dist), labels, images)\n",
        "        loss.backward()\n",
        "        optimizer.step()\n",
        "\n",
        "        total_loss += loss.item() * images.size(0)\n",
        "        num_samples += images.size(0)\n",
        "\n",
        "        if labels.ndim == 2:\n",
        "            labels_hard = labels.argmax(dim=1)\n",
        "        else:\n",
        "            labels_hard = labels\n",
        "\n",
        "        if out_class is not None and out_dist is not None:\n",
        "            preds = ((out_class + out_dist) / 2).argmax(dim=1)\n",
        "        elif out_class is not None:\n",
        "            preds = out_class.argmax(dim=1)\n",
        "        elif out_dist is not None:\n",
        "            preds = out_dist.argmax(dim=1)\n",
        "\n",
        "        correct += preds.eq(labels_hard).sum().item()\n",
        "        num_samples += images.size(0)\n",
        "    return total_loss / num_samples, (correct / num_samples) * 100\n",
        "\n",
        "def evaluate(model, dataloader, criterion, device):\n",
        "    model.eval()\n",
        "    total_loss = 0\n",
        "    correct = 0\n",
        "    num_samples = 0\n",
        "    with torch.no_grad():\n",
        "        for images, labels in dataloader:\n",
        "            images = images.to(device)\n",
        "            labels = labels.to(device)\n",
        "            out_class, out_dist = model(images)\n",
        "            loss = criterion((out_class, out_dist), labels, images)\n",
        "            total_loss += loss.item() * images.size(0)\n",
        "            if out_class is not None and out_dist is not None:\n",
        "                preds = ((out_class + out_dist) / 2).argmax(dim=1)\n",
        "            elif out_class is not None:\n",
        "                preds = out_class.argmax(dim=1)\n",
        "            elif out_dist is not None:\n",
        "                preds = out_dist.argmax(dim=1)\n",
        "            else:\n",
        "                print(\"something wrong with preds eval\")\n",
        "            correct += preds.eq(labels).sum().item()\n",
        "            num_samples += labels.size(0)\n",
        "\n",
        "    return total_loss / num_samples, (correct / num_samples) * 100\n"
      ]
    },
    {
      "cell_type": "code",
      "source": [
        "from torchvision.transforms import RandAugment\n",
        "mixup_fn = Mixup(\n",
        "    mixup_alpha=0.8,\n",
        "    cutmix_alpha=1.0,\n",
        "    cutmix_minmax=None,\n",
        "    prob=1.0,\n",
        "    switch_prob=0.5,\n",
        "    mode='batch',\n",
        "    label_smoothing=0.1,\n",
        "    num_classes=10\n",
        ")\n",
        "IMAGENET_DEFAULT_MEAN = [0.485, 0.456, 0.406]\n",
        "IMAGENET_DEFAULT_STD = [0.229, 0.224, 0.225]\n",
        "\n",
        "transform_train = transforms.Compose([\n",
        "    transforms.Resize(224, interpolation=InterpolationMode.BICUBIC),\n",
        "    transforms.RandomHorizontalFlip(),\n",
        "    RandAugment(num_ops=2, magnitude=9),\n",
        "    transforms.ToTensor(),\n",
        "    transforms.Normalize(IMAGENET_DEFAULT_MEAN, IMAGENET_DEFAULT_STD),\n",
        "    RandomErasing(probability=0.25, mode='const')\n",
        "])\n",
        "\n",
        "transform_test = transforms.Compose([\n",
        "    transforms.Resize(224, interpolation=InterpolationMode.BICUBIC),\n",
        "    transforms.ToTensor(),\n",
        "    transforms.Normalize(IMAGENET_DEFAULT_MEAN, IMAGENET_DEFAULT_STD)\n",
        "])\n",
        "\n",
        "trainset = CIFAR10(root='./data', train=True, download=True, transform=transform_train)\n",
        "testset = CIFAR10(root='./data', train=False, download=True, transform=transform_test)\n",
        "\n",
        "trainloader = DataLoader(trainset, batch_size=64, shuffle=True, num_workers=0, pin_memory=True) #if throwing fork error, just change num_workers to 0\n",
        "testloader = DataLoader(testset, batch_size=64, shuffle=False, num_workers=2, pin_memory=True)\n",
        "\n",
        "device = torch.device('cuda' if torch.cuda.is_available() else 'cpu')\n"
      ],
      "metadata": {
        "id": "9Otv2-cwTLKm"
      },
      "execution_count": null,
      "outputs": []
    },
    {
      "cell_type": "markdown",
      "metadata": {
        "id": "bz9MMg_wHJyK"
      },
      "source": [
        "# CNN (teacher model)"
      ]
    },
    {
      "cell_type": "code",
      "execution_count": null,
      "metadata": {
        "id": "lSkIsOqgHLyV",
        "colab": {
          "base_uri": "https://localhost:8080/"
        },
        "outputId": "2af2fef8-1a19-4daf-d651-2c730d5dfb4f"
      },
      "outputs": [
        {
          "output_type": "stream",
          "name": "stderr",
          "text": [
            "/usr/local/lib/python3.11/dist-packages/torchvision/models/_utils.py:208: UserWarning: The parameter 'pretrained' is deprecated since 0.13 and may be removed in the future, please use 'weights' instead.\n",
            "  warnings.warn(\n",
            "/usr/local/lib/python3.11/dist-packages/torchvision/models/_utils.py:223: UserWarning: Arguments other than a weight enum or `None` for 'weights' are deprecated since 0.13 and may be removed in the future. The current behavior is equivalent to passing `weights=RegNet_X_400MF_Weights.IMAGENET1K_V1`. You can also use `weights=RegNet_X_400MF_Weights.DEFAULT` to get the most up-to-date weights.\n",
            "  warnings.warn(msg)\n"
          ]
        }
      ],
      "source": [
        "import torchvision.models as models\n",
        "regnet = models.regnet_x_400mf(pretrained=True)"
      ]
    },
    {
      "cell_type": "code",
      "source": [
        "class DistillationLoss(nn.Module):\n",
        "    def __init__(self, base_criterion=None, teacher_model=None, mode='both', lambda_=0.5, temperature=2.0):\n",
        "        super().__init__()\n",
        "        self.base_criterion = base_criterion or nn.CrossEntropyLoss()\n",
        "        self.soft_cross= SoftTargetCrossEntropy()\n",
        "        self.teacher_model = teacher_model\n",
        "        self.lambda_ = lambda_\n",
        "        self.temperature = temperature\n",
        "        self.mode = mode\n",
        "        self.kl_div = nn.KLDivLoss(reduction='batchmean')\n",
        "\n",
        "    def forward(self, outputs, labels, inputs):\n",
        "        out_class, out_dist = outputs\n",
        "        def ce(pred, target):\n",
        "            if target.ndim == 2:\n",
        "                return self.soft_cross(pred, target)\n",
        "            return self.base_criterion(pred, target)\n",
        "\n",
        "        if self.mode == 'none':\n",
        "            return ce(out_class, labels)\n",
        "\n",
        "        if self.teacher_model is not None:\n",
        "            with torch.no_grad():\n",
        "                teacher_logits = self.teacher_model(inputs)\n",
        "\n",
        "        if self.mode == 'soft':\n",
        "            teacher_probs = F.softmax(teacher_logits / self.temperature, dim=1)\n",
        "            student_log_probs = F.log_softmax(out_dist / self.temperature, dim=1)\n",
        "            distill_loss = self.kl_div(student_log_probs, teacher_probs) * (self.temperature ** 2)\n",
        "            ce_loss = ce(out_class, labels)\n",
        "            return (1. - self.lambda_) * ce_loss + self.lambda_ * distill_loss\n",
        "\n",
        "        elif self.mode == 'hard':\n",
        "            teacher_labels = teacher_logits.argmax(dim=1)\n",
        "            ce_gt = ce(out_class, labels)\n",
        "            ce_teacher = ce(out_dist, teacher_labels)\n",
        "            return 0.5 * ce_gt + 0.5 * ce_teacher\n",
        "\n",
        "        elif self.mode == 'class':\n",
        "            return ce(out_class, labels)\n",
        "\n",
        "        elif self.mode == 'distill':\n",
        "            teacher_labels = teacher_logits.argmax(dim=1)\n",
        "            return ce(out_dist, teacher_labels)\n",
        "\n",
        "        elif self.mode == 'both':\n",
        "            teacher_probs = F.softmax(teacher_logits / self.temperature, dim=1)\n",
        "            student_log_probs = F.log_softmax(out_dist / self.temperature, dim=1)\n",
        "            distill_loss = self.kl_div(student_log_probs, teacher_probs) * (self.temperature ** 2)\n",
        "            ce_loss = ce(out_class, labels)\n",
        "            return (1. - self.lambda_) * ce_loss + self.lambda_ * distill_loss\n",
        "\n",
        "        else:\n",
        "            print(\"NON EXISTENT MODE\")\n"
      ],
      "metadata": {
        "id": "WvFcurpnPUJb"
      },
      "execution_count": null,
      "outputs": []
    },
    {
      "cell_type": "code",
      "execution_count": null,
      "metadata": {
        "id": "xqZVZtvMrB8j",
        "colab": {
          "base_uri": "https://localhost:8080/"
        },
        "outputId": "f8c24875-e733-4ac3-e745-5473c32def57"
      },
      "outputs": [
        {
          "output_type": "stream",
          "name": "stderr",
          "text": [
            "100%|██████████| 782/782 [06:24<00:00,  2.03it/s]\n"
          ]
        },
        {
          "output_type": "stream",
          "name": "stdout",
          "text": [
            "Epoch 1: train acc=5.27%, val acc=10.57%\n"
          ]
        },
        {
          "output_type": "stream",
          "name": "stderr",
          "text": [
            "100%|██████████| 782/782 [06:21<00:00,  2.05it/s]\n"
          ]
        },
        {
          "output_type": "stream",
          "name": "stdout",
          "text": [
            "Epoch 2: train acc=8.86%, val acc=24.82%\n"
          ]
        },
        {
          "output_type": "stream",
          "name": "stderr",
          "text": [
            "100%|██████████| 782/782 [06:20<00:00,  2.05it/s]\n"
          ]
        },
        {
          "output_type": "stream",
          "name": "stdout",
          "text": [
            "Epoch 3: train acc=10.54%, val acc=27.99%\n"
          ]
        },
        {
          "output_type": "stream",
          "name": "stderr",
          "text": [
            "100%|██████████| 782/782 [06:22<00:00,  2.04it/s]\n"
          ]
        },
        {
          "output_type": "stream",
          "name": "stdout",
          "text": [
            "Epoch 4: train acc=12.0%, val acc=33.86%\n"
          ]
        },
        {
          "output_type": "stream",
          "name": "stderr",
          "text": [
            "100%|██████████| 782/782 [06:22<00:00,  2.05it/s]\n"
          ]
        },
        {
          "output_type": "stream",
          "name": "stdout",
          "text": [
            "Epoch 5: train acc=14.04%, val acc=42.56%\n"
          ]
        },
        {
          "output_type": "stream",
          "name": "stderr",
          "text": [
            "100%|██████████| 782/782 [06:15<00:00,  2.08it/s]\n"
          ]
        },
        {
          "output_type": "stream",
          "name": "stdout",
          "text": [
            "Epoch 6: train acc=15.0%, val acc=44.44%\n"
          ]
        },
        {
          "output_type": "stream",
          "name": "stderr",
          "text": [
            "100%|██████████| 782/782 [06:14<00:00,  2.09it/s]\n"
          ]
        },
        {
          "output_type": "stream",
          "name": "stdout",
          "text": [
            "Epoch 7: train acc=16.32%, val acc=48.74%\n"
          ]
        },
        {
          "output_type": "stream",
          "name": "stderr",
          "text": [
            "100%|██████████| 782/782 [06:14<00:00,  2.09it/s]\n"
          ]
        },
        {
          "output_type": "stream",
          "name": "stdout",
          "text": [
            "Epoch 8: train acc=17.04%, val acc=49.9%\n"
          ]
        },
        {
          "output_type": "stream",
          "name": "stderr",
          "text": [
            "100%|██████████| 782/782 [06:13<00:00,  2.09it/s]\n"
          ]
        },
        {
          "output_type": "stream",
          "name": "stdout",
          "text": [
            "Epoch 9: train acc=17.81%, val acc=51.54%\n"
          ]
        },
        {
          "output_type": "stream",
          "name": "stderr",
          "text": [
            "100%|██████████| 782/782 [06:17<00:00,  2.07it/s]\n"
          ]
        },
        {
          "output_type": "stream",
          "name": "stdout",
          "text": [
            "Epoch 10: train acc=18.07%, val acc=54.8%\n"
          ]
        },
        {
          "output_type": "stream",
          "name": "stderr",
          "text": [
            "100%|██████████| 782/782 [06:20<00:00,  2.05it/s]\n"
          ]
        },
        {
          "output_type": "stream",
          "name": "stdout",
          "text": [
            "Epoch 11: train acc=19.19%, val acc=53.65%\n"
          ]
        },
        {
          "output_type": "stream",
          "name": "stderr",
          "text": [
            "100%|██████████| 782/782 [06:19<00:00,  2.06it/s]\n"
          ]
        },
        {
          "output_type": "stream",
          "name": "stdout",
          "text": [
            "Epoch 12: train acc=19.42%, val acc=56.29%\n"
          ]
        },
        {
          "output_type": "stream",
          "name": "stderr",
          "text": [
            "100%|██████████| 782/782 [06:19<00:00,  2.06it/s]\n"
          ]
        },
        {
          "output_type": "stream",
          "name": "stdout",
          "text": [
            "Epoch 13: train acc=20.22%, val acc=56.57%\n"
          ]
        },
        {
          "output_type": "stream",
          "name": "stderr",
          "text": [
            "100%|██████████| 782/782 [06:19<00:00,  2.06it/s]\n"
          ]
        },
        {
          "output_type": "stream",
          "name": "stdout",
          "text": [
            "Epoch 14: train acc=20.73%, val acc=57.53%\n"
          ]
        },
        {
          "output_type": "stream",
          "name": "stderr",
          "text": [
            "100%|██████████| 782/782 [06:20<00:00,  2.05it/s]\n"
          ]
        },
        {
          "output_type": "stream",
          "name": "stdout",
          "text": [
            "Epoch 15: train acc=20.58%, val acc=59.75%\n"
          ]
        },
        {
          "output_type": "stream",
          "name": "stderr",
          "text": [
            "100%|██████████| 782/782 [06:20<00:00,  2.05it/s]\n"
          ]
        },
        {
          "output_type": "stream",
          "name": "stdout",
          "text": [
            "Epoch 16: train acc=21.5%, val acc=60.11%\n"
          ]
        },
        {
          "output_type": "stream",
          "name": "stderr",
          "text": [
            "100%|██████████| 782/782 [06:19<00:00,  2.06it/s]\n"
          ]
        },
        {
          "output_type": "stream",
          "name": "stdout",
          "text": [
            "Epoch 17: train acc=21.83%, val acc=61.98%\n"
          ]
        },
        {
          "output_type": "stream",
          "name": "stderr",
          "text": [
            "100%|██████████| 782/782 [06:20<00:00,  2.06it/s]\n"
          ]
        },
        {
          "output_type": "stream",
          "name": "stdout",
          "text": [
            "Epoch 18: train acc=22.12%, val acc=62.4%\n"
          ]
        },
        {
          "output_type": "stream",
          "name": "stderr",
          "text": [
            "100%|██████████| 782/782 [06:20<00:00,  2.06it/s]\n"
          ]
        },
        {
          "output_type": "stream",
          "name": "stdout",
          "text": [
            "Epoch 19: train acc=22.27%, val acc=59.5%\n"
          ]
        },
        {
          "output_type": "stream",
          "name": "stderr",
          "text": [
            "100%|██████████| 782/782 [06:21<00:00,  2.05it/s]\n"
          ]
        },
        {
          "output_type": "stream",
          "name": "stdout",
          "text": [
            "Epoch 20: train acc=22.57%, val acc=61.69%\n"
          ]
        }
      ],
      "source": [
        "model = ViT().to(device)\n",
        "# CHANGE THIS LINE TO none | soft | hard | class | distill | both TO RUN MODELS\n",
        "distill_mode = 'none'\n",
        "if distill_mode != 'none':\n",
        "    teacher = regnet\n",
        "    teacher.fc = nn.Linear(400, 10)\n",
        "    teacher = teacher.to(device)\n",
        "    teacher.eval()\n",
        "else:\n",
        "    teacher = None\n",
        "\n",
        "label_smoothing = LabelSmoothingCrossEntropy()\n",
        "criterion = DistillationLoss(base_criterion=LabelSmoothingCrossEntropy(smoothing=0.1), teacher_model=teacher, mode=distill_mode)\n",
        "\n",
        "batch_size = 64\n",
        "base_lr = 0.0005\n",
        "scaled_lr = base_lr * batch_size / 512\n",
        "optimizer = optim.AdamW(model.parameters(), lr=scaled_lr, weight_decay=0.05)\n",
        "\n",
        "def warmup_cosine_lr_schedule(epoch, warmup_epochs=5, total_epochs=50):\n",
        "    if epoch < warmup_epochs:\n",
        "        return epoch / warmup_epochs\n",
        "    progress = (epoch - warmup_epochs) / (total_epochs - warmup_epochs)\n",
        "    return 0.5 * (1 + math.cos(math.pi * progress))\n",
        "\n",
        "scheduler = LambdaLR(optimizer, lr_lambda=lambda epoch: warmup_cosine_lr_schedule(epoch, warmup_epochs=5, total_epochs=50))\n",
        "\n",
        "train_accs = []\n",
        "val_accs = []\n",
        "val_losses = []\n",
        "\n",
        "for epoch in range(1, 21):\n",
        "    train_loss, train_acc = train_one_epoch(model, trainloader, optimizer, criterion, device, mixup_fn=None)\n",
        "    train_accs.append(train_acc)\n",
        "    val_loss, val_acc = evaluate(model, testloader, criterion, device)\n",
        "    val_accs.append(val_acc)\n",
        "    val_losses.append(val_loss)\n",
        "    scheduler.step()\n",
        "    print(\"Epoch \" + str(epoch) + \": train acc=\" + str(round(train_acc, 2)) + \"%, val acc=\" + str(round(val_acc, 2)) + \"%\")"
      ]
    },
    {
      "cell_type": "code",
      "execution_count": null,
      "metadata": {
        "id": "1eilH_RetgY9",
        "colab": {
          "base_uri": "https://localhost:8080/",
          "height": 407
        },
        "outputId": "e0e4d65e-f8cb-45fb-9017-7e0004db58b8"
      },
      "outputs": [
        {
          "output_type": "display_data",
          "data": {
            "text/plain": [
              "<Figure size 600x400 with 1 Axes>"
            ],
            "image/png": "[encoded data removed]"
          },
          "metadata": {}
        }
      ],
      "source": [
        "epochs_range = range(1, len(val_accs) + 1)\n",
        "plt.figure(figsize=(6, 4))\n",
        "plt.plot(epochs_range, val_accs, color='red', marker='D', linestyle='-.', linewidth=2, label='Only Class token')\n",
        "plt.xlabel('epochs')\n",
        "plt.ylabel('top-1 accuracy (%)')\n",
        "plt.ylim(min(val_accs) - 1, max(val_accs) + 1)\n",
        "plt.grid(True, linestyle='--', alpha=0.5)\n",
        "plt.legend()\n",
        "plt.tight_layout()\n",
        "plt.show()\n"
      ]
    },
    {
      "cell_type": "code",
      "execution_count": null,
      "metadata": {
        "id": "QlC6coxithSD",
        "colab": {
          "base_uri": "https://localhost:8080/",
          "height": 35
        },
        "outputId": "d4cc2cd1-b834-4b45-ccb9-1797aaad7443"
      },
      "outputs": [
        {
          "output_type": "display_data",
          "data": {
            "text/plain": [
              "<Figure size 640x480 with 0 Axes>"
            ]
          },
          "metadata": {}
        }
      ],
      "source": [
        "plt.savefig(\"graph.png\", dpi=300)"
      ]
    },
    {
      "cell_type": "code",
      "source": [],
      "metadata": {
        "id": "YqbejB6HORGB"
      },
      "execution_count": null,
      "outputs": []
    }
  ],
  "metadata": {
    "colab": {
      "provenance": [],
      "gpuType": "T4"
    },
    "kernelspec": {
      "display_name": "Python 3",
      "name": "python3"
    },
    "language_info": {
      "name": "python"
    },
    "accelerator": "GPU"
  },
  "nbformat": 4,
  "nbformat_minor": 0
}